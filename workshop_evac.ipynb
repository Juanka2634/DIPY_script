{
 "cells": [
  {
   "attachments": {},
   "cell_type": "markdown",
   "metadata": {},
   "source": [
    "# EVAC"
   ]
  },
  {
   "cell_type": "code",
   "execution_count": 7,
   "metadata": {},
   "outputs": [],
   "source": [
    "import numpy as np\n",
    "from scipy.ndimage import label\n",
    "from dipy.nn.evac import EVACPlus\n",
    "from dipy.io.image import load_nifti, save_nifti\n",
    "from dipy.viz.horizon.app import horizon\n",
    "import tensorflow as tf"
   ]
  },
  {
   "cell_type": "code",
   "execution_count": 11,
   "metadata": {},
   "outputs": [],
   "source": [
    "file_path = '/media/juan2634/ROCKET-NANO/MRI_Analysis/ELP/BIDS_ELP/sub-P007/anat/sub-P007_run-1_T1w.nii.gz'"
   ]
  },
  {
   "cell_type": "code",
   "execution_count": 12,
   "metadata": {},
   "outputs": [
    {
     "name": "stdout",
     "output_type": "stream",
     "text": [
      "fetched /home/juan2634/.dipy/evac/evac_default_weights.h5\n",
      "1/1 [==============================] - 2s 2s/step\n"
     ]
    }
   ],
   "source": [
    "data, affine, img, voxsize = load_nifti(file_path, return_img=True, return_voxsize=True)\n",
    "evac = EVACPlus()\n",
    "mask_volume = evac.predict(data, affine, voxsize)"
   ]
  },
  {
   "cell_type": "code",
   "execution_count": 4,
   "metadata": {},
   "outputs": [
    {
     "ename": "NameError",
     "evalue": "name 'mask' is not defined",
     "output_type": "error",
     "traceback": [
      "\u001b[0;31m---------------------------------------------------------------------------\u001b[0m",
      "\u001b[0;31mNameError\u001b[0m                                 Traceback (most recent call last)",
      "Cell \u001b[0;32mIn[4], line 1\u001b[0m\n\u001b[0;32m----> 1\u001b[0m \u001b[39mprint\u001b[39m(mask\u001b[39m.\u001b[39mshape)\n\u001b[1;32m      2\u001b[0m \u001b[39mprint\u001b[39m(np\u001b[39m.\u001b[39mmean(mask))\n",
      "\u001b[0;31mNameError\u001b[0m: name 'mask' is not defined"
     ]
    }
   ],
   "source": [
    "print(mask.shape)\n",
    "print(np.mean(mask))"
   ]
  },
  {
   "cell_type": "code",
   "execution_count": null,
   "metadata": {},
   "outputs": [
    {
     "name": "stdout",
     "output_type": "stream",
     "text": [
      "Original shape: (256, 256, 150)\n",
      "Resized to RAS shape: (192, 285, 223)\n"
     ]
    }
   ],
   "source": [
    "horizon(images=[(mask*image, affine)])"
   ]
  },
  {
   "cell_type": "code",
   "execution_count": 13,
   "metadata": {},
   "outputs": [],
   "source": [
    "chunks, n_chunk = label(mask_volume)\n",
    "u, c = np.unique(chunks[chunks != 0], return_counts=True)\n",
    "target_idx = u[np.argmax(c)]\n",
    "new_mask = np.where(chunks==target_idx, 1, 0)\n",
    "save_nifti('/media/juan2634/ROCKET-NANO/MRI_Analysis/ELP/BIDS_ELP/derivatives/DWI/DIPY/sub-P007/input_synb0/T1.nii.gz', (new_mask*data).astype(np.float32), affine)"
   ]
  },
  {
   "cell_type": "code",
   "execution_count": null,
   "metadata": {},
   "outputs": [
    {
     "name": "stdout",
     "output_type": "stream",
     "text": [
      "Original shape: (256, 256, 150)\n",
      "Resized to RAS shape: (192, 285, 223)\n"
     ]
    }
   ],
   "source": [
    "horizon(images=[(new_mask*image, affine)])"
   ]
  },
  {
   "attachments": {},
   "cell_type": "markdown",
   "metadata": {},
   "source": [
    "# Median otsu"
   ]
  },
  {
   "cell_type": "code",
   "execution_count": 5,
   "metadata": {},
   "outputs": [],
   "source": [
    "import numpy as np\n",
    "from dipy.data import get_fnames\n",
    "from dipy.io.image import load_nifti\n",
    "from dipy.segment.mask import median_otsu\n",
    "from dipy.viz.horizon.app import horizon"
   ]
  },
  {
   "cell_type": "code",
   "execution_count": 6,
   "metadata": {},
   "outputs": [
    {
     "name": "stdout",
     "output_type": "stream",
     "text": [
      "(128, 128, 65)\n"
     ]
    }
   ],
   "source": [
    "data_fnames = get_fnames('scil_b0')\n",
    "data, affine = load_nifti(data_fnames[1])\n",
    "data = np.squeeze(data)\n",
    "print(data.shape)"
   ]
  },
  {
   "cell_type": "code",
   "execution_count": 7,
   "metadata": {},
   "outputs": [],
   "source": [
    "b0_mask, mask = median_otsu(data, median_radius=2, numpass=1)"
   ]
  },
  {
   "cell_type": "code",
   "execution_count": 8,
   "metadata": {},
   "outputs": [
    {
     "name": "stdout",
     "output_type": "stream",
     "text": [
      "Original shape: (128, 128, 65)\n",
      "Resized to RAS shape: (128, 128, 65)\n"
     ]
    }
   ],
   "source": [
    "horizon(images=[(data.astype(np.float32), affine)])"
   ]
  },
  {
   "attachments": {},
   "cell_type": "markdown",
   "metadata": {},
   "source": [
    "# Tissue Segmentation"
   ]
  },
  {
   "cell_type": "code",
   "execution_count": null,
   "metadata": {},
   "outputs": [],
   "source": [
    "import numpy as np\n",
    "import dipy.reconst.shm as shm\n",
    "import dipy.direction.peaks as dp\n",
    "\n",
    "from dipy.denoise.localpca import mppca\n",
    "from dipy.core.gradients import gradient_table, unique_bvals_tolerance\n",
    "from dipy.io.gradients import read_bvals_bvecs\n",
    "from dipy.viz.horizon.app import horizon\n",
    "from dipy.io.image import load_nifti\n",
    "from dipy.segment.mask import median_otsu\n",
    "from dipy.segment.tissue import TissueClassifierHMRF\n",
    "\n",
    "from dipy.data import get_sphere, get_fnames\n",
    "sphere = get_sphere('symmetric724')"
   ]
  },
  {
   "cell_type": "code",
   "execution_count": null,
   "metadata": {},
   "outputs": [],
   "source": [
    "fraw, fbval, fbvec, t1_fname = get_fnames('cfin_multib')\n",
    "\n",
    "data, affine = load_nifti(fraw)\n",
    "bvals, bvecs = read_bvals_bvecs(fbval, fbvec)\n",
    "gtab = gradient_table(bvals, bvecs)"
   ]
  },
  {
   "cell_type": "code",
   "execution_count": null,
   "metadata": {},
   "outputs": [],
   "source": [
    "bvals = gtab.bvals\n",
    "bvecs = gtab.bvecs\n",
    "\n",
    "sel_b = np.logical_or(np.logical_or(bvals == 0, bvals == 1000), bvals == 2000)\n",
    "data = data[..., sel_b]"
   ]
  },
  {
   "cell_type": "code",
   "execution_count": null,
   "metadata": {},
   "outputs": [],
   "source": [
    "gtab = gradient_table(bvals[sel_b], bvecs[sel_b])"
   ]
  },
  {
   "cell_type": "code",
   "execution_count": null,
   "metadata": {},
   "outputs": [
    {
     "name": "stdout",
     "output_type": "stream",
     "text": [
      "(96, 96, 19, 67)\n"
     ]
    }
   ],
   "source": [
    "b0_mask, mask = median_otsu(data, median_radius=2, numpass=1, vol_idx=[0, 1])\n",
    "\n",
    "print(data.shape)"
   ]
  },
  {
   "cell_type": "code",
   "execution_count": null,
   "metadata": {},
   "outputs": [
    {
     "name": "stderr",
     "output_type": "stream",
     "text": [
      "c:\\Users\\bpmju\\anaconda3\\lib\\site-packages\\dipy\\denoise\\localpca.py:285: RuntimeWarning: invalid value encountered in true_divide\n",
      "  denoised_arr = thetax / theta\n"
     ]
    }
   ],
   "source": [
    "denoised_arr = mppca(data, mask=mask, patch_radius=2)"
   ]
  },
  {
   "cell_type": "code",
   "execution_count": null,
   "metadata": {},
   "outputs": [],
   "source": [
    "qball_model = shm.QballModel(gtab, 8)"
   ]
  },
  {
   "cell_type": "code",
   "execution_count": null,
   "metadata": {},
   "outputs": [],
   "source": [
    "peaks = dp.peaks_from_model(model=qball_model, data=denoised_arr,\n",
    "                            relative_peak_threshold=.5,\n",
    "                            min_separation_angle=25,\n",
    "                            sphere=sphere, mask=mask)\n",
    "\n",
    "ap = shm.anisotropic_power(peaks.shm_coeff)"
   ]
  },
  {
   "cell_type": "code",
   "execution_count": null,
   "metadata": {},
   "outputs": [
    {
     "name": "stdout",
     "output_type": "stream",
     "text": [
      "Original shape: (96, 96, 19)\n",
      "Resized to RAS shape: (100, 100, 40)\n"
     ]
    }
   ],
   "source": [
    "horizon(images=[(ap, affine)])"
   ]
  },
  {
   "cell_type": "code",
   "execution_count": null,
   "metadata": {},
   "outputs": [
    {
     "name": "stdout",
     "output_type": "stream",
     "text": [
      ">> Iteration: 0\n",
      ">> Iteration: 1\n",
      ">> Iteration: 2\n",
      ">> Iteration: 3\n",
      ">> Iteration: 4\n",
      ">> Iteration: 5\n",
      ">> Iteration: 6\n",
      ">> Iteration: 7\n",
      ">> Iteration: 8\n",
      ">> Iteration: 9\n",
      ">> Iteration: 10\n",
      ">> Iteration: 11\n",
      ">> Iteration: 12\n",
      ">> Iteration: 13\n",
      ">> Iteration: 14\n",
      ">> Iteration: 15\n",
      ">> Iteration: 16\n",
      ">> Iteration: 17\n",
      ">> Iteration: 18\n",
      ">> Iteration: 19\n",
      ">> Iteration: 20\n",
      ">> Iteration: 21\n",
      ">> Iteration: 22\n",
      ">> Iteration: 23\n"
     ]
    }
   ],
   "source": [
    "nclass = 3\n",
    "beta = 0.1\n",
    "\n",
    "hmrf = TissueClassifierHMRF()\n",
    "initial_segmentation, final_segmentation, PVE = hmrf.classify(ap, nclass, beta)"
   ]
  },
  {
   "cell_type": "code",
   "execution_count": null,
   "metadata": {},
   "outputs": [],
   "source": [
    "new_image = (final_segmentation*80).astype(np.uint8)"
   ]
  },
  {
   "cell_type": "code",
   "execution_count": null,
   "metadata": {},
   "outputs": [
    {
     "name": "stdout",
     "output_type": "stream",
     "text": [
      "Original shape: (96, 96, 19)\n",
      "Resized to RAS shape: (100, 100, 40)\n"
     ]
    }
   ],
   "source": [
    "horizon(images=[(new_image, affine)])"
   ]
  },
  {
   "cell_type": "code",
   "execution_count": null,
   "metadata": {},
   "outputs": [],
   "source": []
  }
 ],
 "metadata": {
  "kernelspec": {
   "display_name": "synb0_dipy_test",
   "language": "python",
   "name": "python3"
  },
  "language_info": {
   "codemirror_mode": {
    "name": "ipython",
    "version": 3
   },
   "file_extension": ".py",
   "mimetype": "text/x-python",
   "name": "python",
   "nbconvert_exporter": "python",
   "pygments_lexer": "ipython3",
   "version": "3.9.16"
  },
  "orig_nbformat": 4
 },
 "nbformat": 4,
 "nbformat_minor": 2
}
