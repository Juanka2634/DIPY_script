{
 "cells": [
  {
   "cell_type": "code",
   "execution_count": null,
   "id": "c6ebfc50",
   "metadata": {},
   "outputs": [],
   "source": [
    "import numpy as np\n",
    "from dipy.data import get_fnames\n",
    "from dipy.io.image import load_nifti, save_nifti\n",
    "import matplotlib.pyplot as plt\n",
    "\n",
    "#################################################\n",
    "# Load Patch2Self here...\n",
    "#################################################\n",
    "from dipy.denoise.patch2self import patch2self"
   ]
  },
  {
   "cell_type": "code",
   "execution_count": 40,
   "id": "14ca2103",
   "metadata": {},
   "outputs": [],
   "source": [
    "# 2 options to load data:\n",
    "\n",
    "# EXAMPLE DATASET -- this is from Tutorial\n",
    "# hardi_fname, hardi_bval_fname, hardi_bvec_fname = get_fnames('stanford_hardi')\n",
    "# data, affine = load_nifti(hardi_fname)\n",
    "# bvals = np.loadtxt(hardi_bval_fname)\n",
    "\n",
    "# LOAD CUSTOM DATA\n",
    "data, affine = load_nifti('C:/Users/shrey/.dipy/stanford_hardi/HARDI150.nii.gz')\n",
    "bvals = np.loadtxt('C:/Users/shrey/.dipy/stanford_hardi/HARDI150.bval')\n",
    "\n",
    "# try 'ridge', 'lasso' or any SKLearn regressor --> Advanced\n",
    "denoised_arr = patch2self(data, bvals, model='ols', verbose=True, \n",
    "                          shift_intensity=True, clip_negative_vals=False)"
   ]
  },
  {
   "cell_type": "code",
   "execution_count": null,
   "id": "a07197b9",
   "metadata": {},
   "outputs": [],
   "source": [
    "# Gets the center slice and the middle volume of the 4D diffusion data.\n",
    "sli = data.shape[2] // 2\n",
    "gra = 60  # pick out a random volume for a particular gradient direction\n",
    "\n",
    "orig = data[:, :, sli, gra]\n",
    "den = denoised_arr[:, :, sli, gra]\n",
    "\n",
    "# computes the residuals\n",
    "rms_diff = np.sqrt((orig - den) ** 2)\n",
    "\n",
    "fig1, ax = plt.subplots(1, 3, figsize=(12, 6),\n",
    "                        subplot_kw={'xticks': [], 'yticks': []})\n",
    "\n",
    "fig1.subplots_adjust(hspace=0.3, wspace=0.05)\n",
    "\n",
    "ax.flat[0].imshow(orig.T, cmap='gray', interpolation='none',\n",
    "                  origin='lower')\n",
    "ax.flat[0].set_title('Original')\n",
    "ax.flat[1].imshow(den.T, cmap='gray', interpolation='none',\n",
    "                  origin='lower')\n",
    "ax.flat[1].set_title('Denoised Output')\n",
    "ax.flat[2].imshow(rms_diff.T, cmap='gray', interpolation='none',\n",
    "                  origin='lower')\n",
    "ax.flat[2].set_title('Residuals')\n",
    "\n",
    "fig1.savefig('denoised_patch2self.png')\n",
    "\n",
    "print(\"The result saved in denoised_patch2self.png\")"
   ]
  },
  {
   "cell_type": "markdown",
   "id": "e3450641",
   "metadata": {},
   "source": [
    "### Advanced --> Self-supervised masking"
   ]
  }
 ],
 "metadata": {
  "kernelspec": {
   "display_name": "Python 3 (ipykernel)",
   "language": "python",
   "name": "python3"
  },
  "language_info": {
   "codemirror_mode": {
    "name": "ipython",
    "version": 3
   },
   "file_extension": ".py",
   "mimetype": "text/x-python",
   "name": "python",
   "nbconvert_exporter": "python",
   "pygments_lexer": "ipython3",
   "version": "3.7.4"
  }
 },
 "nbformat": 4,
 "nbformat_minor": 5
}
